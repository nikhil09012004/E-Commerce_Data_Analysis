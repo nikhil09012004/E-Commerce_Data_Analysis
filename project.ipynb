{
 "cells": [
  {
   "cell_type": "code",
   "execution_count": 22,
   "id": "8df339a3",
   "metadata": {},
   "outputs": [],
   "source": [
    "import pandas as pd\n",
    "import numpy as np\n",
    "import seaborn as sns\n",
    "import matplotlib.pyplot as plt\n"
   ]
  },
  {
   "cell_type": "markdown",
   "id": "8bdfd673",
   "metadata": {},
   "source": [
    "IMPORTING DATA SET"
   ]
  },
  {
   "cell_type": "code",
   "execution_count": 23,
   "id": "8ff1c7ec",
   "metadata": {},
   "outputs": [],
   "source": [
    "\n",
    "\n",
    "# Load the dataset\n",
    "df = pd.read_csv(\"Sample - Superstore.csv\", encoding='ISO-8859-1')\n"
   ]
  },
  {
   "cell_type": "markdown",
   "id": "bea3cf9d",
   "metadata": {},
   "source": [
    "2.BASIC INFO"
   ]
  },
  {
   "cell_type": "code",
   "execution_count": 24,
   "id": "cb0d5319",
   "metadata": {},
   "outputs": [
    {
     "name": "stdout",
     "output_type": "stream",
     "text": [
      "<class 'pandas.core.frame.DataFrame'>\n",
      "RangeIndex: 9994 entries, 0 to 9993\n",
      "Data columns (total 21 columns):\n",
      " #   Column         Non-Null Count  Dtype  \n",
      "---  ------         --------------  -----  \n",
      " 0   Row ID         9994 non-null   int64  \n",
      " 1   Order ID       9994 non-null   object \n",
      " 2   Order Date     9994 non-null   object \n",
      " 3   Ship Date      9994 non-null   object \n",
      " 4   Ship Mode      9994 non-null   object \n",
      " 5   Customer ID    9994 non-null   object \n",
      " 6   Customer Name  9994 non-null   object \n",
      " 7   Segment        9994 non-null   object \n",
      " 8   Country        9994 non-null   object \n",
      " 9   City           9994 non-null   object \n",
      " 10  State          9994 non-null   object \n",
      " 11  Postal Code    9994 non-null   int64  \n",
      " 12  Region         9994 non-null   object \n",
      " 13  Product ID     9994 non-null   object \n",
      " 14  Category       9994 non-null   object \n",
      " 15  Sub-Category   9994 non-null   object \n",
      " 16  Product Name   9994 non-null   object \n",
      " 17  Sales          9994 non-null   float64\n",
      " 18  Quantity       9994 non-null   int64  \n",
      " 19  Discount       9994 non-null   float64\n",
      " 20  Profit         9994 non-null   float64\n",
      "dtypes: float64(3), int64(3), object(15)\n",
      "memory usage: 1.6+ MB\n",
      "None\n"
     ]
    }
   ],
   "source": [
    "# Overview of the dataset\n",
    "print(df.info())\n",
    "\n"
   ]
  },
  {
   "cell_type": "code",
   "execution_count": 25,
   "id": "5ae2028b",
   "metadata": {},
   "outputs": [
    {
     "name": "stdout",
     "output_type": "stream",
     "text": [
      "   Row ID        Order ID  Order Date   Ship Date       Ship Mode Customer ID  \\\n",
      "0       1  CA-2016-152156   11/8/2016  11/11/2016    Second Class    CG-12520   \n",
      "1       2  CA-2016-152156   11/8/2016  11/11/2016    Second Class    CG-12520   \n",
      "2       3  CA-2016-138688   6/12/2016   6/16/2016    Second Class    DV-13045   \n",
      "3       4  US-2015-108966  10/11/2015  10/18/2015  Standard Class    SO-20335   \n",
      "4       5  US-2015-108966  10/11/2015  10/18/2015  Standard Class    SO-20335   \n",
      "\n",
      "     Customer Name    Segment        Country             City  ...  \\\n",
      "0      Claire Gute   Consumer  United States        Henderson  ...   \n",
      "1      Claire Gute   Consumer  United States        Henderson  ...   \n",
      "2  Darrin Van Huff  Corporate  United States      Los Angeles  ...   \n",
      "3   Sean O'Donnell   Consumer  United States  Fort Lauderdale  ...   \n",
      "4   Sean O'Donnell   Consumer  United States  Fort Lauderdale  ...   \n",
      "\n",
      "  Postal Code  Region       Product ID         Category Sub-Category  \\\n",
      "0       42420   South  FUR-BO-10001798        Furniture    Bookcases   \n",
      "1       42420   South  FUR-CH-10000454        Furniture       Chairs   \n",
      "2       90036    West  OFF-LA-10000240  Office Supplies       Labels   \n",
      "3       33311   South  FUR-TA-10000577        Furniture       Tables   \n",
      "4       33311   South  OFF-ST-10000760  Office Supplies      Storage   \n",
      "\n",
      "                                        Product Name     Sales  Quantity  \\\n",
      "0                  Bush Somerset Collection Bookcase  261.9600         2   \n",
      "1  Hon Deluxe Fabric Upholstered Stacking Chairs,...  731.9400         3   \n",
      "2  Self-Adhesive Address Labels for Typewriters b...   14.6200         2   \n",
      "3      Bretford CR4500 Series Slim Rectangular Table  957.5775         5   \n",
      "4                     Eldon Fold 'N Roll Cart System   22.3680         2   \n",
      "\n",
      "   Discount    Profit  \n",
      "0      0.00   41.9136  \n",
      "1      0.00  219.5820  \n",
      "2      0.00    6.8714  \n",
      "3      0.45 -383.0310  \n",
      "4      0.20    2.5164  \n",
      "\n",
      "[5 rows x 21 columns]\n"
     ]
    }
   ],
   "source": [
    "# First few rows\n",
    "print(df.head())"
   ]
  },
  {
   "cell_type": "code",
   "execution_count": 26,
   "id": "7b1668ba",
   "metadata": {},
   "outputs": [
    {
     "name": "stdout",
     "output_type": "stream",
     "text": [
      "            Row ID   Postal Code         Sales     Quantity     Discount  \\\n",
      "count  9994.000000   9994.000000   9994.000000  9994.000000  9994.000000   \n",
      "mean   4997.500000  55190.379428    229.858001     3.789574     0.156203   \n",
      "std    2885.163629  32063.693350    623.245101     2.225110     0.206452   \n",
      "min       1.000000   1040.000000      0.444000     1.000000     0.000000   \n",
      "25%    2499.250000  23223.000000     17.280000     2.000000     0.000000   \n",
      "50%    4997.500000  56430.500000     54.490000     3.000000     0.200000   \n",
      "75%    7495.750000  90008.000000    209.940000     5.000000     0.200000   \n",
      "max    9994.000000  99301.000000  22638.480000    14.000000     0.800000   \n",
      "\n",
      "            Profit  \n",
      "count  9994.000000  \n",
      "mean     28.656896  \n",
      "std     234.260108  \n",
      "min   -6599.978000  \n",
      "25%       1.728750  \n",
      "50%       8.666500  \n",
      "75%      29.364000  \n",
      "max    8399.976000  \n"
     ]
    }
   ],
   "source": [
    "# Summary statistics\n",
    "print(df.describe())"
   ]
  },
  {
   "cell_type": "markdown",
   "id": "3e300287",
   "metadata": {},
   "source": [
    "3.CHECKING FOR NULL VALUES"
   ]
  },
  {
   "cell_type": "code",
   "execution_count": 27,
   "id": "b2ecf0c3",
   "metadata": {},
   "outputs": [
    {
     "data": {
      "text/plain": [
       "Row ID           0\n",
       "Order ID         0\n",
       "Order Date       0\n",
       "Ship Date        0\n",
       "Ship Mode        0\n",
       "Customer ID      0\n",
       "Customer Name    0\n",
       "Segment          0\n",
       "Country          0\n",
       "City             0\n",
       "State            0\n",
       "Postal Code      0\n",
       "Region           0\n",
       "Product ID       0\n",
       "Category         0\n",
       "Sub-Category     0\n",
       "Product Name     0\n",
       "Sales            0\n",
       "Quantity         0\n",
       "Discount         0\n",
       "Profit           0\n",
       "dtype: int64"
      ]
     },
     "execution_count": 27,
     "metadata": {},
     "output_type": "execute_result"
    }
   ],
   "source": [
    "df.isnull().sum()\n"
   ]
  },
  {
   "cell_type": "markdown",
   "id": "9a8cd41a",
   "metadata": {},
   "source": [
    "4. CONVERT DATE COLUMNS"
   ]
  },
  {
   "cell_type": "code",
   "execution_count": 28,
   "id": "70720c2e",
   "metadata": {},
   "outputs": [],
   "source": [
    "df['Order Date'] = pd.to_datetime(df['Order Date'])\n",
    "df['Ship Date'] = pd.to_datetime(df['Ship Date'])\n"
   ]
  },
  {
   "cell_type": "markdown",
   "id": "293cb2fd",
   "metadata": {},
   "source": [
    "5. SALES &  PROFIT CATEGORY"
   ]
  },
  {
   "cell_type": "code",
   "execution_count": 29,
   "id": "d1d1c7e0",
   "metadata": {},
   "outputs": [
    {
     "data": {
      "text/html": [
       "<div>\n",
       "<style scoped>\n",
       "    .dataframe tbody tr th:only-of-type {\n",
       "        vertical-align: middle;\n",
       "    }\n",
       "\n",
       "    .dataframe tbody tr th {\n",
       "        vertical-align: top;\n",
       "    }\n",
       "\n",
       "    .dataframe thead th {\n",
       "        text-align: right;\n",
       "    }\n",
       "</style>\n",
       "<table border=\"1\" class=\"dataframe\">\n",
       "  <thead>\n",
       "    <tr style=\"text-align: right;\">\n",
       "      <th></th>\n",
       "      <th>Sales</th>\n",
       "      <th>Profit</th>\n",
       "    </tr>\n",
       "    <tr>\n",
       "      <th>Category</th>\n",
       "      <th></th>\n",
       "      <th></th>\n",
       "    </tr>\n",
       "  </thead>\n",
       "  <tbody>\n",
       "    <tr>\n",
       "      <th>Technology</th>\n",
       "      <td>836154.0330</td>\n",
       "      <td>145454.9481</td>\n",
       "    </tr>\n",
       "    <tr>\n",
       "      <th>Furniture</th>\n",
       "      <td>741999.7953</td>\n",
       "      <td>18451.2728</td>\n",
       "    </tr>\n",
       "    <tr>\n",
       "      <th>Office Supplies</th>\n",
       "      <td>719047.0320</td>\n",
       "      <td>122490.8008</td>\n",
       "    </tr>\n",
       "  </tbody>\n",
       "</table>\n",
       "</div>"
      ],
      "text/plain": [
       "                       Sales       Profit\n",
       "Category                                 \n",
       "Technology       836154.0330  145454.9481\n",
       "Furniture        741999.7953   18451.2728\n",
       "Office Supplies  719047.0320  122490.8008"
      ]
     },
     "execution_count": 29,
     "metadata": {},
     "output_type": "execute_result"
    }
   ],
   "source": [
    "df.groupby('Category')[['Sales', 'Profit']].sum().sort_values(by='Sales', ascending=False)\n",
    "\n"
   ]
  },
  {
   "cell_type": "markdown",
   "id": "61eef954",
   "metadata": {},
   "source": [
    "6.TOP 10 PRODUCTS BY SALES\n"
   ]
  },
  {
   "cell_type": "code",
   "execution_count": 30,
   "id": "95b2e6cc",
   "metadata": {},
   "outputs": [
    {
     "name": "stdout",
     "output_type": "stream",
     "text": [
      "Product Name\n",
      "Canon imageCLASS 2200 Advanced Copier                                          61599.824\n",
      "Fellowes PB500 Electric Punch Plastic Comb Binding Machine with Manual Bind    27453.384\n",
      "Cisco TelePresence System EX90 Videoconferencing Unit                          22638.480\n",
      "HON 5400 Series Task Chairs for Big and Tall                                   21870.576\n",
      "GBC DocuBind TL300 Electric Binding System                                     19823.479\n",
      "GBC Ibimaster 500 Manual ProClick Binding System                               19024.500\n",
      "Hewlett Packard LaserJet 3310 Copier                                           18839.686\n",
      "HP Designjet T520 Inkjet Large Format Printer - 24\" Color                      18374.895\n",
      "GBC DocuBind P400 Electric Binding System                                      17965.068\n",
      "High Speed Automatic Electric Letter Opener                                    17030.312\n",
      "Name: Sales, dtype: float64\n"
     ]
    }
   ],
   "source": [
    "top_products = df.groupby('Product Name')['Sales'].sum().sort_values(ascending=False).head(10)\n",
    "print(top_products)\n"
   ]
  },
  {
   "cell_type": "markdown",
   "id": "00ffb70f",
   "metadata": {},
   "source": [
    "7. SALES BY REGION AND SATE"
   ]
  },
  {
   "cell_type": "code",
   "execution_count": 31,
   "id": "a3968747",
   "metadata": {},
   "outputs": [
    {
     "data": {
      "text/plain": [
       "Region   State               \n",
       "West     California              457687.6315\n",
       "East     New York                310876.2710\n",
       "Central  Texas                   170188.0458\n",
       "West     Washington              138641.2700\n",
       "East     Pennsylvania            116511.9140\n",
       "South    Florida                  89473.7080\n",
       "Central  Illinois                 80166.1010\n",
       "East     Ohio                     78258.1360\n",
       "Central  Michigan                 76269.6140\n",
       "South    Virginia                 70636.7200\n",
       "         North Carolina           55603.1640\n",
       "Central  Indiana                  53555.3600\n",
       "South    Georgia                  49095.8400\n",
       "         Kentucky                 36591.7500\n",
       "East     New Jersey               35764.3120\n",
       "West     Arizona                  35282.0010\n",
       "Central  Wisconsin                32114.6100\n",
       "West     Colorado                 32108.1180\n",
       "South    Tennessee                30661.8730\n",
       "Central  Minnesota                29863.1500\n",
       "East     Massachusetts            28634.4340\n",
       "         Delaware                 27451.0690\n",
       "         Maryland                 23705.5230\n",
       "         Rhode Island             22627.9560\n",
       "Central  Missouri                 22205.1500\n",
       "         Oklahoma                 19683.3900\n",
       "South    Alabama                  19510.6400\n",
       "West     Oregon                   17431.1500\n",
       "         Nevada                   16729.1020\n",
       "East     Connecticut              13384.3570\n",
       "South    Arkansas                 11678.1300\n",
       "West     Utah                     11220.0560\n",
       "South    Mississippi              10771.3400\n",
       "         Louisiana                 9217.0300\n",
       "East     Vermont                   8929.3700\n",
       "South    South Carolina            8481.7100\n",
       "Central  Nebraska                  7464.9300\n",
       "East     New Hampshire             7292.5240\n",
       "West     Montana                   5589.3520\n",
       "         New Mexico                4783.5220\n",
       "Central  Iowa                      4579.7600\n",
       "West     Idaho                     4382.4860\n",
       "Central  Kansas                    2914.3100\n",
       "East     District of Columbia      2865.0200\n",
       "West     Wyoming                   1603.1360\n",
       "Central  South Dakota              1315.5600\n",
       "East     Maine                     1270.5300\n",
       "         West Virginia             1209.8240\n",
       "Central  North Dakota               919.9100\n",
       "Name: Sales, dtype: float64"
      ]
     },
     "execution_count": 31,
     "metadata": {},
     "output_type": "execute_result"
    }
   ],
   "source": [
    "df.groupby(['Region', 'State'])['Sales'].sum().sort_values(ascending=False)\n"
   ]
  },
  {
   "cell_type": "markdown",
   "id": "51f600b3",
   "metadata": {},
   "source": [
    "8.MONTHLY SALES TREND"
   ]
  },
  {
   "cell_type": "code",
   "execution_count": 32,
   "id": "77626824",
   "metadata": {},
   "outputs": [
    {
     "name": "stdout",
     "output_type": "stream",
     "text": [
      "Month\n",
      "2014-01     14236.8950\n",
      "2014-02      4519.8920\n",
      "2014-03     55691.0090\n",
      "2014-04     28295.3450\n",
      "2014-05     23648.2870\n",
      "2014-06     34595.1276\n",
      "2014-07     33946.3930\n",
      "2014-08     27909.4685\n",
      "2014-09     81777.3508\n",
      "2014-10     31453.3930\n",
      "2014-11     78628.7167\n",
      "2014-12     69545.6205\n",
      "2015-01     18174.0756\n",
      "2015-02     11951.4110\n",
      "2015-03     38726.2520\n",
      "2015-04     34195.2085\n",
      "2015-05     30131.6865\n",
      "2015-06     24797.2920\n",
      "2015-07     28765.3250\n",
      "2015-08     36898.3322\n",
      "2015-09     64595.9180\n",
      "2015-10     31404.9235\n",
      "2015-11     75972.5635\n",
      "2015-12     74919.5212\n",
      "2016-01     18542.4910\n",
      "2016-02     22978.8150\n",
      "2016-03     51715.8750\n",
      "2016-04     38750.0390\n",
      "2016-05     56987.7280\n",
      "2016-06     40344.5340\n",
      "2016-07     39261.9630\n",
      "2016-08     31115.3743\n",
      "2016-09     73410.0249\n",
      "2016-10     59687.7450\n",
      "2016-11     79411.9658\n",
      "2016-12     96999.0430\n",
      "2017-01     43971.3740\n",
      "2017-02     20301.1334\n",
      "2017-03     58872.3528\n",
      "2017-04     36521.5361\n",
      "2017-05     44261.1102\n",
      "2017-06     52981.7257\n",
      "2017-07     45264.4160\n",
      "2017-08     63120.8880\n",
      "2017-09     87866.6520\n",
      "2017-10     77776.9232\n",
      "2017-11    118447.8250\n",
      "2017-12     83829.3188\n",
      "Freq: M, Name: Sales, dtype: float64\n"
     ]
    }
   ],
   "source": [
    "df['Month'] = df['Order Date'].dt.to_period('M')\n",
    "monthly_sales = df.groupby('Month')['Sales'].sum()\n",
    "print(monthly_sales)"
   ]
  },
  {
   "cell_type": "markdown",
   "id": "dc24bd7d",
   "metadata": {},
   "source": [
    "\n",
    "9. Profit vs Discount Analysis"
   ]
  },
  {
   "cell_type": "code",
   "execution_count": 33,
   "id": "1d313256",
   "metadata": {},
   "outputs": [
    {
     "data": {
      "text/html": [
       "<div>\n",
       "<style scoped>\n",
       "    .dataframe tbody tr th:only-of-type {\n",
       "        vertical-align: middle;\n",
       "    }\n",
       "\n",
       "    .dataframe tbody tr th {\n",
       "        vertical-align: top;\n",
       "    }\n",
       "\n",
       "    .dataframe thead th {\n",
       "        text-align: right;\n",
       "    }\n",
       "</style>\n",
       "<table border=\"1\" class=\"dataframe\">\n",
       "  <thead>\n",
       "    <tr style=\"text-align: right;\">\n",
       "      <th></th>\n",
       "      <th>Discount</th>\n",
       "      <th>Profit</th>\n",
       "    </tr>\n",
       "  </thead>\n",
       "  <tbody>\n",
       "    <tr>\n",
       "      <th>Discount</th>\n",
       "      <td>1.000000</td>\n",
       "      <td>-0.219487</td>\n",
       "    </tr>\n",
       "    <tr>\n",
       "      <th>Profit</th>\n",
       "      <td>-0.219487</td>\n",
       "      <td>1.000000</td>\n",
       "    </tr>\n",
       "  </tbody>\n",
       "</table>\n",
       "</div>"
      ],
      "text/plain": [
       "          Discount    Profit\n",
       "Discount  1.000000 -0.219487\n",
       "Profit   -0.219487  1.000000"
      ]
     },
     "execution_count": 33,
     "metadata": {},
     "output_type": "execute_result"
    }
   ],
   "source": [
    "df[['Discount', 'Profit']].corr()\n"
   ]
  },
  {
   "cell_type": "markdown",
   "id": "339fc215",
   "metadata": {},
   "source": [
    "10. Most Common Sub-Categories"
   ]
  },
  {
   "cell_type": "code",
   "execution_count": 34,
   "id": "21c4867f",
   "metadata": {},
   "outputs": [
    {
     "data": {
      "text/plain": [
       "Sub-Category\n",
       "Binders        1523\n",
       "Paper          1370\n",
       "Furnishings     957\n",
       "Phones          889\n",
       "Storage         846\n",
       "Art             796\n",
       "Accessories     775\n",
       "Chairs          617\n",
       "Appliances      466\n",
       "Labels          364\n",
       "Tables          319\n",
       "Envelopes       254\n",
       "Bookcases       228\n",
       "Fasteners       217\n",
       "Supplies        190\n",
       "Machines        115\n",
       "Copiers          68\n",
       "Name: count, dtype: int64"
      ]
     },
     "execution_count": 34,
     "metadata": {},
     "output_type": "execute_result"
    }
   ],
   "source": [
    "df['Sub-Category'].value_counts()"
   ]
  }
 ],
 "metadata": {
  "kernelspec": {
   "display_name": "Python 3",
   "language": "python",
   "name": "python3"
  },
  "language_info": {
   "codemirror_mode": {
    "name": "ipython",
    "version": 3
   },
   "file_extension": ".py",
   "mimetype": "text/x-python",
   "name": "python",
   "nbconvert_exporter": "python",
   "pygments_lexer": "ipython3",
   "version": "3.13.2"
  }
 },
 "nbformat": 4,
 "nbformat_minor": 5
}
